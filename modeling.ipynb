{
 "cells": [
  {
   "cell_type": "code",
   "execution_count": 1,
   "metadata": {
    "collapsed": true
   },
   "outputs": [],
   "source": [
    "import sagemaker\n",
    "import pandas as pd\n",
    "from sagemaker.sklearn import SKLearn\n",
    "from utilities.utils import download_artifact, decompress_artifact"
   ]
  },
  {
   "cell_type": "code",
   "execution_count": 2,
   "outputs": [
    {
     "name": "stdout",
     "output_type": "stream",
     "text": [
      "2.25.1\n"
     ]
    }
   ],
   "source": [
    "print(sagemaker.__version__)\n",
    "session = sagemaker.Session()\n",
    "role = 'arn:aws:iam::512194003765:role/service-role/AmazonSageMaker-ExecutionRole-20200210T190543'"
   ],
   "metadata": {
    "collapsed": false,
    "pycharm": {
     "name": "#%%\n"
    }
   }
  },
  {
   "cell_type": "code",
   "execution_count": 3,
   "outputs": [
    {
     "name": "stdout",
     "output_type": "stream",
     "text": [
      "env: SM_CHANNEL_TRAIN=data/training\n",
      "env: SM_MODEL_DIR=/tmp/model\n"
     ]
    }
   ],
   "source": [
    "%env SM_CHANNEL_TRAIN=data/training\n",
    "\n",
    "%env SM_MODEL_DIR=/tmp/model"
   ],
   "metadata": {
    "collapsed": false,
    "pycharm": {
     "name": "#%%\n"
    }
   }
  },
  {
   "cell_type": "code",
   "execution_count": 4,
   "outputs": [],
   "source": [
    "training_input_path = 'file://data/training/train.csv'"
   ],
   "metadata": {
    "collapsed": false,
    "pycharm": {
     "name": "#%%\n"
    }
   }
  },
  {
   "cell_type": "code",
   "execution_count": 5,
   "outputs": [
    {
     "name": "stderr",
     "output_type": "stream",
     "text": [
      "train_instance_type has been renamed in sagemaker>=2.\n",
      "See: https://sagemaker.readthedocs.io/en/stable/v2.html for details.\n",
      "train_instance_count has been renamed in sagemaker>=2.\n",
      "See: https://sagemaker.readthedocs.io/en/stable/v2.html for details.\n",
      "train_instance_count has been renamed in sagemaker>=2.\n",
      "See: https://sagemaker.readthedocs.io/en/stable/v2.html for details.\n",
      "train_instance_type has been renamed in sagemaker>=2.\n",
      "See: https://sagemaker.readthedocs.io/en/stable/v2.html for details.\n",
      "Windows Support for Local Mode is Experimental\n"
     ]
    }
   ],
   "source": [
    "estimator = SKLearn(entry_point='sklearn_train.py',\n",
    "                    role=role,\n",
    "                    source_dir='src',\n",
    "                    train_instance_count=1,\n",
    "                    train_instance_type='local',\n",
    "                    framework_version='0.23-1',\n",
    "                    py_version='py3',\n",
    "                    script_mode=True,\n",
    "                    dependencies=['src/config/config.py', 'src/pipeline/custom_pipeline.py'])"
   ],
   "metadata": {
    "collapsed": false,
    "pycharm": {
     "name": "#%%\n"
    }
   }
  },
  {
   "cell_type": "code",
   "execution_count": 6,
   "outputs": [
    {
     "name": "stdout",
     "output_type": "stream",
     "text": [
      "Creating xijl4zhh3j-algo-1-u2agw ... \r\n",
      "\u001B[1BAttaching to xijl4zhh3j-algo-1-u2agw2mdone\u001B[0m\r\n",
      "\u001B[36mxijl4zhh3j-algo-1-u2agw |\u001B[0m 2021-03-02 04:03:59,879 sagemaker-containers INFO     Imported framework sagemaker_sklearn_container.training\r\n",
      "\u001B[36mxijl4zhh3j-algo-1-u2agw |\u001B[0m 2021-03-02 04:03:59,881 sagemaker-training-toolkit INFO     No GPUs detected (normal if no gpus installed)\r\n",
      "\u001B[36mxijl4zhh3j-algo-1-u2agw |\u001B[0m 2021-03-02 04:03:59,897 sagemaker_sklearn_container.training INFO     Invoking user training script.\r\n",
      "\u001B[36mxijl4zhh3j-algo-1-u2agw |\u001B[0m 2021-03-02 04:04:00,613 sagemaker-training-toolkit INFO     No GPUs detected (normal if no gpus installed)\r\n",
      "\u001B[36mxijl4zhh3j-algo-1-u2agw |\u001B[0m 2021-03-02 04:04:00,632 sagemaker-training-toolkit INFO     No GPUs detected (normal if no gpus installed)\r\n",
      "\u001B[36mxijl4zhh3j-algo-1-u2agw |\u001B[0m 2021-03-02 04:04:00,648 sagemaker-training-toolkit INFO     No GPUs detected (normal if no gpus installed)\r\n",
      "\u001B[36mxijl4zhh3j-algo-1-u2agw |\u001B[0m 2021-03-02 04:04:00,662 sagemaker-training-toolkit INFO     Invoking user script\r\n",
      "\u001B[36mxijl4zhh3j-algo-1-u2agw |\u001B[0m \r\n",
      "\u001B[36mxijl4zhh3j-algo-1-u2agw |\u001B[0m Training Env:\r\n",
      "\u001B[36mxijl4zhh3j-algo-1-u2agw |\u001B[0m \r\n",
      "\u001B[36mxijl4zhh3j-algo-1-u2agw |\u001B[0m {\r\n",
      "\u001B[36mxijl4zhh3j-algo-1-u2agw |\u001B[0m     \"additional_framework_parameters\": {},\r\n",
      "\u001B[36mxijl4zhh3j-algo-1-u2agw |\u001B[0m     \"channel_input_dirs\": {\r\n",
      "\u001B[36mxijl4zhh3j-algo-1-u2agw |\u001B[0m         \"training\": \"/opt/ml/input/data/training\"\r\n",
      "\u001B[36mxijl4zhh3j-algo-1-u2agw |\u001B[0m     },\r\n",
      "\u001B[36mxijl4zhh3j-algo-1-u2agw |\u001B[0m     \"current_host\": \"algo-1-u2agw\",\r\n",
      "\u001B[36mxijl4zhh3j-algo-1-u2agw |\u001B[0m     \"framework_module\": \"sagemaker_sklearn_container.training:main\",\r\n",
      "\u001B[36mxijl4zhh3j-algo-1-u2agw |\u001B[0m     \"hosts\": [\r\n",
      "\u001B[36mxijl4zhh3j-algo-1-u2agw |\u001B[0m         \"algo-1-u2agw\"\r\n",
      "\u001B[36mxijl4zhh3j-algo-1-u2agw |\u001B[0m     ],\r\n",
      "\u001B[36mxijl4zhh3j-algo-1-u2agw |\u001B[0m     \"hyperparameters\": {},\r\n",
      "\u001B[36mxijl4zhh3j-algo-1-u2agw |\u001B[0m     \"input_config_dir\": \"/opt/ml/input/config\",\r\n",
      "\u001B[36mxijl4zhh3j-algo-1-u2agw |\u001B[0m     \"input_data_config\": {\r\n",
      "\u001B[36mxijl4zhh3j-algo-1-u2agw |\u001B[0m         \"training\": {\r\n",
      "\u001B[36mxijl4zhh3j-algo-1-u2agw |\u001B[0m             \"TrainingInputMode\": \"File\"\r\n",
      "\u001B[36mxijl4zhh3j-algo-1-u2agw |\u001B[0m         }\r\n",
      "\u001B[36mxijl4zhh3j-algo-1-u2agw |\u001B[0m     },\r\n",
      "\u001B[36mxijl4zhh3j-algo-1-u2agw |\u001B[0m     \"input_dir\": \"/opt/ml/input\",\r\n",
      "\u001B[36mxijl4zhh3j-algo-1-u2agw |\u001B[0m     \"is_master\": true,\r\n",
      "\u001B[36mxijl4zhh3j-algo-1-u2agw |\u001B[0m     \"job_name\": \"sagemaker-scikit-learn-local-1\",\r\n",
      "\u001B[36mxijl4zhh3j-algo-1-u2agw |\u001B[0m     \"log_level\": 20,\r\n",
      "\u001B[36mxijl4zhh3j-algo-1-u2agw |\u001B[0m     \"master_hostname\": \"algo-1-u2agw\",\r\n",
      "\u001B[36mxijl4zhh3j-algo-1-u2agw |\u001B[0m     \"model_dir\": \"/opt/ml/model\",\r\n",
      "\u001B[36mxijl4zhh3j-algo-1-u2agw |\u001B[0m     \"module_dir\": \"s3://sagemaker-us-east-1-512194003765/sagemaker-scikit-learn-local-1/source/sourcedir.tar.gz\",\r\n",
      "\u001B[36mxijl4zhh3j-algo-1-u2agw |\u001B[0m     \"module_name\": \"sklearn_train\",\r\n",
      "\u001B[36mxijl4zhh3j-algo-1-u2agw |\u001B[0m     \"network_interface_name\": \"eth0\",\r\n",
      "\u001B[36mxijl4zhh3j-algo-1-u2agw |\u001B[0m     \"num_cpus\": 12,\r\n",
      "\u001B[36mxijl4zhh3j-algo-1-u2agw |\u001B[0m     \"num_gpus\": 0,\r\n",
      "\u001B[36mxijl4zhh3j-algo-1-u2agw |\u001B[0m     \"output_data_dir\": \"/opt/ml/output/data\",\r\n",
      "\u001B[36mxijl4zhh3j-algo-1-u2agw |\u001B[0m     \"output_dir\": \"/opt/ml/output\",\r\n",
      "\u001B[36mxijl4zhh3j-algo-1-u2agw |\u001B[0m     \"output_intermediate_dir\": \"/opt/ml/output/intermediate\",\r\n",
      "\u001B[36mxijl4zhh3j-algo-1-u2agw |\u001B[0m     \"resource_config\": {\r\n",
      "\u001B[36mxijl4zhh3j-algo-1-u2agw |\u001B[0m         \"current_host\": \"algo-1-u2agw\",\r\n",
      "\u001B[36mxijl4zhh3j-algo-1-u2agw |\u001B[0m         \"hosts\": [\r\n",
      "\u001B[36mxijl4zhh3j-algo-1-u2agw |\u001B[0m             \"algo-1-u2agw\"\r\n",
      "\u001B[36mxijl4zhh3j-algo-1-u2agw |\u001B[0m         ]\r\n",
      "\u001B[36mxijl4zhh3j-algo-1-u2agw |\u001B[0m     },\r\n",
      "\u001B[36mxijl4zhh3j-algo-1-u2agw |\u001B[0m     \"user_entry_point\": \"sklearn_train.py\"\r\n",
      "\u001B[36mxijl4zhh3j-algo-1-u2agw |\u001B[0m }\r\n",
      "\u001B[36mxijl4zhh3j-algo-1-u2agw |\u001B[0m \r\n",
      "\u001B[36mxijl4zhh3j-algo-1-u2agw |\u001B[0m Environment variables:\r\n",
      "\u001B[36mxijl4zhh3j-algo-1-u2agw |\u001B[0m \r\n",
      "\u001B[36mxijl4zhh3j-algo-1-u2agw |\u001B[0m SM_HOSTS=[\"algo-1-u2agw\"]\r\n",
      "\u001B[36mxijl4zhh3j-algo-1-u2agw |\u001B[0m SM_NETWORK_INTERFACE_NAME=eth0\r\n",
      "\u001B[36mxijl4zhh3j-algo-1-u2agw |\u001B[0m SM_HPS={}\r\n",
      "\u001B[36mxijl4zhh3j-algo-1-u2agw |\u001B[0m SM_USER_ENTRY_POINT=sklearn_train.py\r\n",
      "\u001B[36mxijl4zhh3j-algo-1-u2agw |\u001B[0m SM_FRAMEWORK_PARAMS={}\r\n",
      "\u001B[36mxijl4zhh3j-algo-1-u2agw |\u001B[0m SM_RESOURCE_CONFIG={\"current_host\":\"algo-1-u2agw\",\"hosts\":[\"algo-1-u2agw\"]}\r\n",
      "\u001B[36mxijl4zhh3j-algo-1-u2agw |\u001B[0m SM_INPUT_DATA_CONFIG={\"training\":{\"TrainingInputMode\":\"File\"}}\r\n",
      "\u001B[36mxijl4zhh3j-algo-1-u2agw |\u001B[0m SM_OUTPUT_DATA_DIR=/opt/ml/output/data\r\n",
      "\u001B[36mxijl4zhh3j-algo-1-u2agw |\u001B[0m SM_CHANNELS=[\"training\"]\r\n",
      "\u001B[36mxijl4zhh3j-algo-1-u2agw |\u001B[0m SM_CURRENT_HOST=algo-1-u2agw\r\n",
      "\u001B[36mxijl4zhh3j-algo-1-u2agw |\u001B[0m SM_MODULE_NAME=sklearn_train\r\n",
      "\u001B[36mxijl4zhh3j-algo-1-u2agw |\u001B[0m SM_LOG_LEVEL=20\r\n",
      "\u001B[36mxijl4zhh3j-algo-1-u2agw |\u001B[0m SM_FRAMEWORK_MODULE=sagemaker_sklearn_container.training:main\r\n",
      "\u001B[36mxijl4zhh3j-algo-1-u2agw |\u001B[0m SM_INPUT_DIR=/opt/ml/input\r\n",
      "\u001B[36mxijl4zhh3j-algo-1-u2agw |\u001B[0m SM_INPUT_CONFIG_DIR=/opt/ml/input/config\r\n",
      "\u001B[36mxijl4zhh3j-algo-1-u2agw |\u001B[0m SM_OUTPUT_DIR=/opt/ml/output\r\n",
      "\u001B[36mxijl4zhh3j-algo-1-u2agw |\u001B[0m SM_NUM_CPUS=12\r\n",
      "\u001B[36mxijl4zhh3j-algo-1-u2agw |\u001B[0m SM_NUM_GPUS=0\r\n",
      "\u001B[36mxijl4zhh3j-algo-1-u2agw |\u001B[0m SM_MODEL_DIR=/opt/ml/model\r\n",
      "\u001B[36mxijl4zhh3j-algo-1-u2agw |\u001B[0m SM_MODULE_DIR=s3://sagemaker-us-east-1-512194003765/sagemaker-scikit-learn-local-1/source/sourcedir.tar.gz\r\n",
      "\u001B[36mxijl4zhh3j-algo-1-u2agw |\u001B[0m SM_TRAINING_ENV={\"additional_framework_parameters\":{},\"channel_input_dirs\":{\"training\":\"/opt/ml/input/data/training\"},\"current_host\":\"algo-1-u2agw\",\"framework_module\":\"sagemaker_sklearn_container.training:main\",\"hosts\":[\"algo-1-u2agw\"],\"hyperparameters\":{},\"input_config_dir\":\"/opt/ml/input/config\",\"input_data_config\":{\"training\":{\"TrainingInputMode\":\"File\"}},\"input_dir\":\"/opt/ml/input\",\"is_master\":true,\"job_name\":\"sagemaker-scikit-learn-local-1\",\"log_level\":20,\"master_hostname\":\"algo-1-u2agw\",\"model_dir\":\"/opt/ml/model\",\"module_dir\":\"s3://sagemaker-us-east-1-512194003765/sagemaker-scikit-learn-local-1/source/sourcedir.tar.gz\",\"module_name\":\"sklearn_train\",\"network_interface_name\":\"eth0\",\"num_cpus\":12,\"num_gpus\":0,\"output_data_dir\":\"/opt/ml/output/data\",\"output_dir\":\"/opt/ml/output\",\"output_intermediate_dir\":\"/opt/ml/output/intermediate\",\"resource_config\":{\"current_host\":\"algo-1-u2agw\",\"hosts\":[\"algo-1-u2agw\"]},\"user_entry_point\":\"sklearn_train.py\"}\r\n",
      "\u001B[36mxijl4zhh3j-algo-1-u2agw |\u001B[0m SM_USER_ARGS=[]\r\n",
      "\u001B[36mxijl4zhh3j-algo-1-u2agw |\u001B[0m SM_OUTPUT_INTERMEDIATE_DIR=/opt/ml/output/intermediate\r\n",
      "\u001B[36mxijl4zhh3j-algo-1-u2agw |\u001B[0m SM_CHANNEL_TRAINING=/opt/ml/input/data/training\r\n",
      "\u001B[36mxijl4zhh3j-algo-1-u2agw |\u001B[0m PYTHONPATH=/opt/ml/code:/miniconda3/bin:/miniconda3/lib/python37.zip:/miniconda3/lib/python3.7:/miniconda3/lib/python3.7/lib-dynload:/miniconda3/lib/python3.7/site-packages\r\n",
      "\u001B[36mxijl4zhh3j-algo-1-u2agw |\u001B[0m \r\n",
      "\u001B[36mxijl4zhh3j-algo-1-u2agw |\u001B[0m Invoking script with the following command:\r\n",
      "\u001B[36mxijl4zhh3j-algo-1-u2agw |\u001B[0m \r\n",
      "\u001B[36mxijl4zhh3j-algo-1-u2agw |\u001B[0m /miniconda3/bin/python sklearn_train.py\r\n",
      "\u001B[36mxijl4zhh3j-algo-1-u2agw |\u001B[0m \r\n",
      "\u001B[36mxijl4zhh3j-algo-1-u2agw |\u001B[0m \r\n",
      "\u001B[36mxijl4zhh3j-algo-1-u2agw |\u001B[0m 2021-03-02 04:04:01,341 sagemaker-containers INFO     Reporting training SUCCESS\r\n",
      "\u001B[36mxijl4zhh3j-algo-1-u2agw exited with code 0\r\n",
      "\u001B[0mAborting on container exit...\r\n",
      "===== Job Complete =====\n"
     ]
    }
   ],
   "source": [
    "estimator.fit(inputs={'training': training_input_path}, job_name='sagemaker-scikit-learn-local-1')"
   ],
   "metadata": {
    "collapsed": false,
    "pycharm": {
     "name": "#%%\n"
    }
   }
  },
  {
   "cell_type": "code",
   "execution_count": 7,
   "outputs": [
    {
     "name": "stdout",
     "output_type": "stream",
     "text": [
      "REPOSITORY                                                            TAG              IMAGE ID       CREATED        SIZE\n",
      "683313688378.dkr.ecr.us-east-1.amazonaws.com/sagemaker-scikit-learn   0.23-1-cpu-py3   42981ecdd106   2 months ago   3.21GB\n",
      "docker101tutorial                                                     latest           d463b9498431   2 months ago   27.6MB\n",
      "alpine/git                                                            latest           76a4083eacef   3 months ago   28.4MB\n"
     ]
    }
   ],
   "source": [
    "!docker images"
   ],
   "metadata": {
    "collapsed": false,
    "pycharm": {
     "name": "#%%\n"
    }
   }
  },
  {
   "cell_type": "code",
   "execution_count": 8,
   "outputs": [
    {
     "data": {
      "text/plain": "'s3://sagemaker-us-east-1-512194003765/sagemaker-scikit-learn-local-1\\\\model.tar.gz'"
     },
     "execution_count": 8,
     "metadata": {},
     "output_type": "execute_result"
    }
   ],
   "source": [
    "model_path = estimator.model_data\n",
    "model_path"
   ],
   "metadata": {
    "collapsed": false,
    "pycharm": {
     "name": "#%%\n"
    }
   }
  },
  {
   "cell_type": "code",
   "execution_count": 9,
   "outputs": [
    {
     "data": {
      "text/plain": "0"
     },
     "execution_count": 9,
     "metadata": {},
     "output_type": "execute_result"
    }
   ],
   "source": [
    "model_uri = \"s3://sagemaker-us-east-1-512194003765/sagemaker-scikit-learn-local-1/model.tar.gz\"\n",
    "source_uri = \"s3://sagemaker-us-east-1-512194003765/sagemaker-scikit-learn-local-1/source/sourcedir.tar.gz\"\n",
    "output_uri = \"s3://sagemaker-us-east-1-512194003765/sagemaker-scikit-learn-local-1/output.tar.gz\"\n",
    "\n",
    "download_artifact(s3_path=model_uri, local_path='model/')\n",
    "download_artifact(s3_path=source_uri, local_path='model/')\n",
    "download_artifact(s3_path=output_uri, local_path='model/')"
   ],
   "metadata": {
    "collapsed": false,
    "pycharm": {
     "name": "#%%\n"
    }
   }
  },
  {
   "cell_type": "code",
   "execution_count": 10,
   "outputs": [
    {
     "data": {
      "text/plain": "0"
     },
     "execution_count": 10,
     "metadata": {},
     "output_type": "execute_result"
    }
   ],
   "source": [
    "decompress_artifact(filepath=\"model/sourcedir.tar.gz\")\n",
    "decompress_artifact(filepath=\"model/output.tar.gz\")\n",
    "decompress_artifact(filepath=\"model/model.tar.gz\")"
   ],
   "metadata": {
    "collapsed": false,
    "pycharm": {
     "name": "#%%\n"
    }
   }
  },
  {
   "cell_type": "code",
   "execution_count": 12,
   "outputs": [
    {
     "name": "stderr",
     "output_type": "stream",
     "text": [
      "Exception in thread Thread-9:\n",
      "Traceback (most recent call last):\n",
      "  File \"c:\\users\\stiven.lopez\\pycharmprojects\\sagemaker-local\\venv\\lib\\site-packages\\sagemaker\\local\\image.py\", line 827, in run\n",
      "    _stream_output(self.process)\n",
      "  File \"c:\\users\\stiven.lopez\\pycharmprojects\\sagemaker-local\\venv\\lib\\site-packages\\sagemaker\\local\\image.py\", line 887, in _stream_output\n",
      "    raise RuntimeError(\"Process exited with code: %s\" % exit_code)\n",
      "RuntimeError: Process exited with code: 1\n",
      "\n",
      "During handling of the above exception, another exception occurred:\n",
      "\n",
      "Traceback (most recent call last):\n",
      "  File \"C:\\Users\\stiven.lopez\\AppData\\Local\\Programs\\Python\\Python38\\lib\\threading.py\", line 932, in _bootstrap_inner\n",
      "    self.run()\n",
      "  File \"c:\\users\\stiven.lopez\\pycharmprojects\\sagemaker-local\\venv\\lib\\site-packages\\sagemaker\\local\\image.py\", line 832, in run\n",
      "    raise RuntimeError(msg)\n",
      "RuntimeError: Failed to run: ['docker-compose', '-f', 'C:\\\\Users\\\\STIVEN~1.LOP\\\\AppData\\\\Local\\\\Temp\\\\tmpfzeh3nug\\\\docker-compose.yaml', 'up', '--build', '--abort-on-container-exit'], Process exited with code: 1\n"
     ]
    },
    {
     "ename": "KeyboardInterrupt",
     "evalue": "",
     "output_type": "error",
     "traceback": [
      "\u001B[1;31m---------------------------------------------------------------------------\u001B[0m",
      "\u001B[1;31mConnectionRefusedError\u001B[0m                    Traceback (most recent call last)",
      "\u001B[1;32mc:\\users\\stiven.lopez\\pycharmprojects\\sagemaker-local\\venv\\lib\\site-packages\\urllib3\\util\\connection.py\u001B[0m in \u001B[0;36mcreate_connection\u001B[1;34m(address, timeout, source_address, socket_options)\u001B[0m\n\u001B[0;32m     85\u001B[0m                 \u001B[0msock\u001B[0m\u001B[1;33m.\u001B[0m\u001B[0mbind\u001B[0m\u001B[1;33m(\u001B[0m\u001B[0msource_address\u001B[0m\u001B[1;33m)\u001B[0m\u001B[1;33m\u001B[0m\u001B[1;33m\u001B[0m\u001B[0m\n\u001B[1;32m---> 86\u001B[1;33m             \u001B[0msock\u001B[0m\u001B[1;33m.\u001B[0m\u001B[0mconnect\u001B[0m\u001B[1;33m(\u001B[0m\u001B[0msa\u001B[0m\u001B[1;33m)\u001B[0m\u001B[1;33m\u001B[0m\u001B[1;33m\u001B[0m\u001B[0m\n\u001B[0m\u001B[0;32m     87\u001B[0m             \u001B[1;32mreturn\u001B[0m \u001B[0msock\u001B[0m\u001B[1;33m\u001B[0m\u001B[1;33m\u001B[0m\u001B[0m\n",
      "\u001B[1;31mConnectionRefusedError\u001B[0m: [WinError 10061] No se puede establecer una conexión ya que el equipo de destino denegó expresamente dicha conexión",
      "\nDuring handling of the above exception, another exception occurred:\n",
      "\u001B[1;31mKeyboardInterrupt\u001B[0m                         Traceback (most recent call last)",
      "\u001B[1;32m<ipython-input-12-5dd777d9ca3b>\u001B[0m in \u001B[0;36m<module>\u001B[1;34m\u001B[0m\n\u001B[1;32m----> 1\u001B[1;33m \u001B[0mpredictor\u001B[0m \u001B[1;33m=\u001B[0m \u001B[0mestimator\u001B[0m\u001B[1;33m.\u001B[0m\u001B[0mdeploy\u001B[0m\u001B[1;33m(\u001B[0m\u001B[0minitial_instance_count\u001B[0m\u001B[1;33m=\u001B[0m\u001B[1;36m1\u001B[0m\u001B[1;33m,\u001B[0m \u001B[0minstance_type\u001B[0m\u001B[1;33m=\u001B[0m\u001B[1;34m'local'\u001B[0m\u001B[1;33m)\u001B[0m\u001B[1;33m\u001B[0m\u001B[1;33m\u001B[0m\u001B[0m\n\u001B[0m\u001B[0;32m      2\u001B[0m \u001B[1;33m\u001B[0m\u001B[0m\n",
      "\u001B[1;32mc:\\users\\stiven.lopez\\pycharmprojects\\sagemaker-local\\venv\\lib\\site-packages\\sagemaker\\estimator.py\u001B[0m in \u001B[0;36mdeploy\u001B[1;34m(self, initial_instance_count, instance_type, serializer, deserializer, accelerator_type, endpoint_name, use_compiled_model, wait, model_name, kms_key, data_capture_config, tags, **kwargs)\u001B[0m\n\u001B[0;32m    918\u001B[0m         \u001B[0mmodel\u001B[0m\u001B[1;33m.\u001B[0m\u001B[0mname\u001B[0m \u001B[1;33m=\u001B[0m \u001B[0mmodel_name\u001B[0m\u001B[1;33m\u001B[0m\u001B[1;33m\u001B[0m\u001B[0m\n\u001B[0;32m    919\u001B[0m \u001B[1;33m\u001B[0m\u001B[0m\n\u001B[1;32m--> 920\u001B[1;33m         return model.deploy(\n\u001B[0m\u001B[0;32m    921\u001B[0m             \u001B[0minstance_type\u001B[0m\u001B[1;33m=\u001B[0m\u001B[0minstance_type\u001B[0m\u001B[1;33m,\u001B[0m\u001B[1;33m\u001B[0m\u001B[1;33m\u001B[0m\u001B[0m\n\u001B[0;32m    922\u001B[0m             \u001B[0minitial_instance_count\u001B[0m\u001B[1;33m=\u001B[0m\u001B[0minitial_instance_count\u001B[0m\u001B[1;33m,\u001B[0m\u001B[1;33m\u001B[0m\u001B[1;33m\u001B[0m\u001B[0m\n",
      "\u001B[1;32mc:\\users\\stiven.lopez\\pycharmprojects\\sagemaker-local\\venv\\lib\\site-packages\\sagemaker\\model.py\u001B[0m in \u001B[0;36mdeploy\u001B[1;34m(self, initial_instance_count, instance_type, serializer, deserializer, accelerator_type, endpoint_name, tags, kms_key, wait, data_capture_config, **kwargs)\u001B[0m\n\u001B[0;32m    756\u001B[0m             \u001B[0mdata_capture_config_dict\u001B[0m \u001B[1;33m=\u001B[0m \u001B[0mdata_capture_config\u001B[0m\u001B[1;33m.\u001B[0m\u001B[0m_to_request_dict\u001B[0m\u001B[1;33m(\u001B[0m\u001B[1;33m)\u001B[0m\u001B[1;33m\u001B[0m\u001B[1;33m\u001B[0m\u001B[0m\n\u001B[0;32m    757\u001B[0m \u001B[1;33m\u001B[0m\u001B[0m\n\u001B[1;32m--> 758\u001B[1;33m         self.sagemaker_session.endpoint_from_production_variants(\n\u001B[0m\u001B[0;32m    759\u001B[0m             \u001B[0mname\u001B[0m\u001B[1;33m=\u001B[0m\u001B[0mself\u001B[0m\u001B[1;33m.\u001B[0m\u001B[0mendpoint_name\u001B[0m\u001B[1;33m,\u001B[0m\u001B[1;33m\u001B[0m\u001B[1;33m\u001B[0m\u001B[0m\n\u001B[0;32m    760\u001B[0m             \u001B[0mproduction_variants\u001B[0m\u001B[1;33m=\u001B[0m\u001B[1;33m[\u001B[0m\u001B[0mproduction_variant\u001B[0m\u001B[1;33m]\u001B[0m\u001B[1;33m,\u001B[0m\u001B[1;33m\u001B[0m\u001B[1;33m\u001B[0m\u001B[0m\n",
      "\u001B[1;32mc:\\users\\stiven.lopez\\pycharmprojects\\sagemaker-local\\venv\\lib\\site-packages\\sagemaker\\session.py\u001B[0m in \u001B[0;36mendpoint_from_production_variants\u001B[1;34m(self, name, production_variants, tags, kms_key, wait, data_capture_config_dict)\u001B[0m\n\u001B[0;32m   3454\u001B[0m \u001B[1;33m\u001B[0m\u001B[0m\n\u001B[0;32m   3455\u001B[0m             \u001B[0mself\u001B[0m\u001B[1;33m.\u001B[0m\u001B[0msagemaker_client\u001B[0m\u001B[1;33m.\u001B[0m\u001B[0mcreate_endpoint_config\u001B[0m\u001B[1;33m(\u001B[0m\u001B[1;33m**\u001B[0m\u001B[0mconfig_options\u001B[0m\u001B[1;33m)\u001B[0m\u001B[1;33m\u001B[0m\u001B[1;33m\u001B[0m\u001B[0m\n\u001B[1;32m-> 3456\u001B[1;33m         \u001B[1;32mreturn\u001B[0m \u001B[0mself\u001B[0m\u001B[1;33m.\u001B[0m\u001B[0mcreate_endpoint\u001B[0m\u001B[1;33m(\u001B[0m\u001B[0mendpoint_name\u001B[0m\u001B[1;33m=\u001B[0m\u001B[0mname\u001B[0m\u001B[1;33m,\u001B[0m \u001B[0mconfig_name\u001B[0m\u001B[1;33m=\u001B[0m\u001B[0mname\u001B[0m\u001B[1;33m,\u001B[0m \u001B[0mtags\u001B[0m\u001B[1;33m=\u001B[0m\u001B[0mtags\u001B[0m\u001B[1;33m,\u001B[0m \u001B[0mwait\u001B[0m\u001B[1;33m=\u001B[0m\u001B[0mwait\u001B[0m\u001B[1;33m)\u001B[0m\u001B[1;33m\u001B[0m\u001B[1;33m\u001B[0m\u001B[0m\n\u001B[0m\u001B[0;32m   3457\u001B[0m \u001B[1;33m\u001B[0m\u001B[0m\n\u001B[0;32m   3458\u001B[0m     \u001B[1;32mdef\u001B[0m \u001B[0mexpand_role\u001B[0m\u001B[1;33m(\u001B[0m\u001B[0mself\u001B[0m\u001B[1;33m,\u001B[0m \u001B[0mrole\u001B[0m\u001B[1;33m)\u001B[0m\u001B[1;33m:\u001B[0m\u001B[1;33m\u001B[0m\u001B[1;33m\u001B[0m\u001B[0m\n",
      "\u001B[1;32mc:\\users\\stiven.lopez\\pycharmprojects\\sagemaker-local\\venv\\lib\\site-packages\\sagemaker\\session.py\u001B[0m in \u001B[0;36mcreate_endpoint\u001B[1;34m(self, endpoint_name, config_name, tags, wait)\u001B[0m\n\u001B[0;32m   2953\u001B[0m         \u001B[0mtags\u001B[0m \u001B[1;33m=\u001B[0m \u001B[0m_append_project_tags\u001B[0m\u001B[1;33m(\u001B[0m\u001B[0mtags\u001B[0m\u001B[1;33m)\u001B[0m\u001B[1;33m\u001B[0m\u001B[1;33m\u001B[0m\u001B[0m\n\u001B[0;32m   2954\u001B[0m \u001B[1;33m\u001B[0m\u001B[0m\n\u001B[1;32m-> 2955\u001B[1;33m         self.sagemaker_client.create_endpoint(\n\u001B[0m\u001B[0;32m   2956\u001B[0m             \u001B[0mEndpointName\u001B[0m\u001B[1;33m=\u001B[0m\u001B[0mendpoint_name\u001B[0m\u001B[1;33m,\u001B[0m \u001B[0mEndpointConfigName\u001B[0m\u001B[1;33m=\u001B[0m\u001B[0mconfig_name\u001B[0m\u001B[1;33m,\u001B[0m \u001B[0mTags\u001B[0m\u001B[1;33m=\u001B[0m\u001B[0mtags\u001B[0m\u001B[1;33m\u001B[0m\u001B[1;33m\u001B[0m\u001B[0m\n\u001B[0;32m   2957\u001B[0m         )\n",
      "\u001B[1;32mc:\\users\\stiven.lopez\\pycharmprojects\\sagemaker-local\\venv\\lib\\site-packages\\sagemaker\\local\\local_session.py\u001B[0m in \u001B[0;36mcreate_endpoint\u001B[1;34m(self, EndpointName, EndpointConfigName, Tags)\u001B[0m\n\u001B[0;32m    346\u001B[0m         \u001B[0mendpoint\u001B[0m \u001B[1;33m=\u001B[0m \u001B[0m_LocalEndpoint\u001B[0m\u001B[1;33m(\u001B[0m\u001B[0mEndpointName\u001B[0m\u001B[1;33m,\u001B[0m \u001B[0mEndpointConfigName\u001B[0m\u001B[1;33m,\u001B[0m \u001B[0mTags\u001B[0m\u001B[1;33m,\u001B[0m \u001B[0mself\u001B[0m\u001B[1;33m.\u001B[0m\u001B[0msagemaker_session\u001B[0m\u001B[1;33m)\u001B[0m\u001B[1;33m\u001B[0m\u001B[1;33m\u001B[0m\u001B[0m\n\u001B[0;32m    347\u001B[0m         \u001B[0mLocalSagemakerClient\u001B[0m\u001B[1;33m.\u001B[0m\u001B[0m_endpoints\u001B[0m\u001B[1;33m[\u001B[0m\u001B[0mEndpointName\u001B[0m\u001B[1;33m]\u001B[0m \u001B[1;33m=\u001B[0m \u001B[0mendpoint\u001B[0m\u001B[1;33m\u001B[0m\u001B[1;33m\u001B[0m\u001B[0m\n\u001B[1;32m--> 348\u001B[1;33m         \u001B[0mendpoint\u001B[0m\u001B[1;33m.\u001B[0m\u001B[0mserve\u001B[0m\u001B[1;33m(\u001B[0m\u001B[1;33m)\u001B[0m\u001B[1;33m\u001B[0m\u001B[1;33m\u001B[0m\u001B[0m\n\u001B[0m\u001B[0;32m    349\u001B[0m \u001B[1;33m\u001B[0m\u001B[0m\n\u001B[0;32m    350\u001B[0m     \u001B[1;32mdef\u001B[0m \u001B[0mupdate_endpoint\u001B[0m\u001B[1;33m(\u001B[0m\u001B[0mself\u001B[0m\u001B[1;33m,\u001B[0m \u001B[0mEndpointName\u001B[0m\u001B[1;33m,\u001B[0m \u001B[0mEndpointConfigName\u001B[0m\u001B[1;33m)\u001B[0m\u001B[1;33m:\u001B[0m  \u001B[1;31m# pylint: disable=unused-argument\u001B[0m\u001B[1;33m\u001B[0m\u001B[1;33m\u001B[0m\u001B[0m\n",
      "\u001B[1;32mc:\\users\\stiven.lopez\\pycharmprojects\\sagemaker-local\\venv\\lib\\site-packages\\sagemaker\\local\\entities.py\u001B[0m in \u001B[0;36mserve\u001B[1;34m(self)\u001B[0m\n\u001B[0;32m    580\u001B[0m \u001B[1;33m\u001B[0m\u001B[0m\n\u001B[0;32m    581\u001B[0m         \u001B[0mserving_port\u001B[0m \u001B[1;33m=\u001B[0m \u001B[0mget_config_value\u001B[0m\u001B[1;33m(\u001B[0m\u001B[1;34m\"local.serving_port\"\u001B[0m\u001B[1;33m,\u001B[0m \u001B[0mself\u001B[0m\u001B[1;33m.\u001B[0m\u001B[0mlocal_session\u001B[0m\u001B[1;33m.\u001B[0m\u001B[0mconfig\u001B[0m\u001B[1;33m)\u001B[0m \u001B[1;32mor\u001B[0m \u001B[1;36m8080\u001B[0m\u001B[1;33m\u001B[0m\u001B[1;33m\u001B[0m\u001B[0m\n\u001B[1;32m--> 582\u001B[1;33m         \u001B[0m_wait_for_serving_container\u001B[0m\u001B[1;33m(\u001B[0m\u001B[0mserving_port\u001B[0m\u001B[1;33m)\u001B[0m\u001B[1;33m\u001B[0m\u001B[1;33m\u001B[0m\u001B[0m\n\u001B[0m\u001B[0;32m    583\u001B[0m         \u001B[1;31m# the container is running and it passed the healthcheck status is now InService\u001B[0m\u001B[1;33m\u001B[0m\u001B[1;33m\u001B[0m\u001B[1;33m\u001B[0m\u001B[0m\n\u001B[0;32m    584\u001B[0m         \u001B[0mself\u001B[0m\u001B[1;33m.\u001B[0m\u001B[0mstate\u001B[0m \u001B[1;33m=\u001B[0m \u001B[0m_LocalEndpoint\u001B[0m\u001B[1;33m.\u001B[0m\u001B[0m_IN_SERVICE\u001B[0m\u001B[1;33m\u001B[0m\u001B[1;33m\u001B[0m\u001B[0m\n",
      "\u001B[1;32mc:\\users\\stiven.lopez\\pycharmprojects\\sagemaker-local\\venv\\lib\\site-packages\\sagemaker\\local\\entities.py\u001B[0m in \u001B[0;36m_wait_for_serving_container\u001B[1;34m(serving_port)\u001B[0m\n\u001B[0;32m    615\u001B[0m \u001B[1;33m\u001B[0m\u001B[0m\n\u001B[0;32m    616\u001B[0m         \u001B[0mlogger\u001B[0m\u001B[1;33m.\u001B[0m\u001B[0minfo\u001B[0m\u001B[1;33m(\u001B[0m\u001B[1;34m\"Checking if serving container is up, attempt: %s\"\u001B[0m\u001B[1;33m,\u001B[0m \u001B[0mi\u001B[0m\u001B[1;33m)\u001B[0m\u001B[1;33m\u001B[0m\u001B[1;33m\u001B[0m\u001B[0m\n\u001B[1;32m--> 617\u001B[1;33m         \u001B[0m_\u001B[0m\u001B[1;33m,\u001B[0m \u001B[0mcode\u001B[0m \u001B[1;33m=\u001B[0m \u001B[0m_perform_request\u001B[0m\u001B[1;33m(\u001B[0m\u001B[0mendpoint_url\u001B[0m\u001B[1;33m,\u001B[0m \u001B[0mhttp\u001B[0m\u001B[1;33m)\u001B[0m\u001B[1;33m\u001B[0m\u001B[1;33m\u001B[0m\u001B[0m\n\u001B[0m\u001B[0;32m    618\u001B[0m         \u001B[1;32mif\u001B[0m \u001B[0mcode\u001B[0m \u001B[1;33m!=\u001B[0m \u001B[1;36m200\u001B[0m\u001B[1;33m:\u001B[0m\u001B[1;33m\u001B[0m\u001B[1;33m\u001B[0m\u001B[0m\n\u001B[0;32m    619\u001B[0m             \u001B[0mlogger\u001B[0m\u001B[1;33m.\u001B[0m\u001B[0minfo\u001B[0m\u001B[1;33m(\u001B[0m\u001B[1;34m\"Container still not up, got: %s\"\u001B[0m\u001B[1;33m,\u001B[0m \u001B[0mcode\u001B[0m\u001B[1;33m)\u001B[0m\u001B[1;33m\u001B[0m\u001B[1;33m\u001B[0m\u001B[0m\n",
      "\u001B[1;32mc:\\users\\stiven.lopez\\pycharmprojects\\sagemaker-local\\venv\\lib\\site-packages\\sagemaker\\local\\entities.py\u001B[0m in \u001B[0;36m_perform_request\u001B[1;34m(endpoint_url, pool_manager)\u001B[0m\n\u001B[0;32m    628\u001B[0m     \u001B[0mhttp\u001B[0m \u001B[1;33m=\u001B[0m \u001B[0mpool_manager\u001B[0m \u001B[1;32mor\u001B[0m \u001B[0murllib3\u001B[0m\u001B[1;33m.\u001B[0m\u001B[0mPoolManager\u001B[0m\u001B[1;33m(\u001B[0m\u001B[1;33m)\u001B[0m\u001B[1;33m\u001B[0m\u001B[1;33m\u001B[0m\u001B[0m\n\u001B[0;32m    629\u001B[0m     \u001B[1;32mtry\u001B[0m\u001B[1;33m:\u001B[0m\u001B[1;33m\u001B[0m\u001B[1;33m\u001B[0m\u001B[0m\n\u001B[1;32m--> 630\u001B[1;33m         \u001B[0mr\u001B[0m \u001B[1;33m=\u001B[0m \u001B[0mhttp\u001B[0m\u001B[1;33m.\u001B[0m\u001B[0mrequest\u001B[0m\u001B[1;33m(\u001B[0m\u001B[1;34m\"GET\"\u001B[0m\u001B[1;33m,\u001B[0m \u001B[0mendpoint_url\u001B[0m\u001B[1;33m)\u001B[0m\u001B[1;33m\u001B[0m\u001B[1;33m\u001B[0m\u001B[0m\n\u001B[0m\u001B[0;32m    631\u001B[0m         \u001B[0mcode\u001B[0m \u001B[1;33m=\u001B[0m \u001B[0mr\u001B[0m\u001B[1;33m.\u001B[0m\u001B[0mstatus\u001B[0m\u001B[1;33m\u001B[0m\u001B[1;33m\u001B[0m\u001B[0m\n\u001B[0;32m    632\u001B[0m     \u001B[1;32mexcept\u001B[0m \u001B[0murllib3\u001B[0m\u001B[1;33m.\u001B[0m\u001B[0mexceptions\u001B[0m\u001B[1;33m.\u001B[0m\u001B[0mRequestError\u001B[0m\u001B[1;33m:\u001B[0m\u001B[1;33m\u001B[0m\u001B[1;33m\u001B[0m\u001B[0m\n",
      "\u001B[1;32mc:\\users\\stiven.lopez\\pycharmprojects\\sagemaker-local\\venv\\lib\\site-packages\\urllib3\\request.py\u001B[0m in \u001B[0;36mrequest\u001B[1;34m(self, method, url, fields, headers, **urlopen_kw)\u001B[0m\n\u001B[0;32m     72\u001B[0m \u001B[1;33m\u001B[0m\u001B[0m\n\u001B[0;32m     73\u001B[0m         \u001B[1;32mif\u001B[0m \u001B[0mmethod\u001B[0m \u001B[1;32min\u001B[0m \u001B[0mself\u001B[0m\u001B[1;33m.\u001B[0m\u001B[0m_encode_url_methods\u001B[0m\u001B[1;33m:\u001B[0m\u001B[1;33m\u001B[0m\u001B[1;33m\u001B[0m\u001B[0m\n\u001B[1;32m---> 74\u001B[1;33m             return self.request_encode_url(\n\u001B[0m\u001B[0;32m     75\u001B[0m                 \u001B[0mmethod\u001B[0m\u001B[1;33m,\u001B[0m \u001B[0murl\u001B[0m\u001B[1;33m,\u001B[0m \u001B[0mfields\u001B[0m\u001B[1;33m=\u001B[0m\u001B[0mfields\u001B[0m\u001B[1;33m,\u001B[0m \u001B[0mheaders\u001B[0m\u001B[1;33m=\u001B[0m\u001B[0mheaders\u001B[0m\u001B[1;33m,\u001B[0m \u001B[1;33m**\u001B[0m\u001B[0murlopen_kw\u001B[0m\u001B[1;33m\u001B[0m\u001B[1;33m\u001B[0m\u001B[0m\n\u001B[0;32m     76\u001B[0m             )\n",
      "\u001B[1;32mc:\\users\\stiven.lopez\\pycharmprojects\\sagemaker-local\\venv\\lib\\site-packages\\urllib3\\request.py\u001B[0m in \u001B[0;36mrequest_encode_url\u001B[1;34m(self, method, url, fields, headers, **urlopen_kw)\u001B[0m\n\u001B[0;32m     94\u001B[0m             \u001B[0murl\u001B[0m \u001B[1;33m+=\u001B[0m \u001B[1;34m\"?\"\u001B[0m \u001B[1;33m+\u001B[0m \u001B[0murlencode\u001B[0m\u001B[1;33m(\u001B[0m\u001B[0mfields\u001B[0m\u001B[1;33m)\u001B[0m\u001B[1;33m\u001B[0m\u001B[1;33m\u001B[0m\u001B[0m\n\u001B[0;32m     95\u001B[0m \u001B[1;33m\u001B[0m\u001B[0m\n\u001B[1;32m---> 96\u001B[1;33m         \u001B[1;32mreturn\u001B[0m \u001B[0mself\u001B[0m\u001B[1;33m.\u001B[0m\u001B[0murlopen\u001B[0m\u001B[1;33m(\u001B[0m\u001B[0mmethod\u001B[0m\u001B[1;33m,\u001B[0m \u001B[0murl\u001B[0m\u001B[1;33m,\u001B[0m \u001B[1;33m**\u001B[0m\u001B[0mextra_kw\u001B[0m\u001B[1;33m)\u001B[0m\u001B[1;33m\u001B[0m\u001B[1;33m\u001B[0m\u001B[0m\n\u001B[0m\u001B[0;32m     97\u001B[0m \u001B[1;33m\u001B[0m\u001B[0m\n\u001B[0;32m     98\u001B[0m     def request_encode_body(\n",
      "\u001B[1;32mc:\\users\\stiven.lopez\\pycharmprojects\\sagemaker-local\\venv\\lib\\site-packages\\urllib3\\poolmanager.py\u001B[0m in \u001B[0;36murlopen\u001B[1;34m(self, method, url, redirect, **kw)\u001B[0m\n\u001B[0;32m    373\u001B[0m             \u001B[0mresponse\u001B[0m \u001B[1;33m=\u001B[0m \u001B[0mconn\u001B[0m\u001B[1;33m.\u001B[0m\u001B[0murlopen\u001B[0m\u001B[1;33m(\u001B[0m\u001B[0mmethod\u001B[0m\u001B[1;33m,\u001B[0m \u001B[0murl\u001B[0m\u001B[1;33m,\u001B[0m \u001B[1;33m**\u001B[0m\u001B[0mkw\u001B[0m\u001B[1;33m)\u001B[0m\u001B[1;33m\u001B[0m\u001B[1;33m\u001B[0m\u001B[0m\n\u001B[0;32m    374\u001B[0m         \u001B[1;32melse\u001B[0m\u001B[1;33m:\u001B[0m\u001B[1;33m\u001B[0m\u001B[1;33m\u001B[0m\u001B[0m\n\u001B[1;32m--> 375\u001B[1;33m             \u001B[0mresponse\u001B[0m \u001B[1;33m=\u001B[0m \u001B[0mconn\u001B[0m\u001B[1;33m.\u001B[0m\u001B[0murlopen\u001B[0m\u001B[1;33m(\u001B[0m\u001B[0mmethod\u001B[0m\u001B[1;33m,\u001B[0m \u001B[0mu\u001B[0m\u001B[1;33m.\u001B[0m\u001B[0mrequest_uri\u001B[0m\u001B[1;33m,\u001B[0m \u001B[1;33m**\u001B[0m\u001B[0mkw\u001B[0m\u001B[1;33m)\u001B[0m\u001B[1;33m\u001B[0m\u001B[1;33m\u001B[0m\u001B[0m\n\u001B[0m\u001B[0;32m    376\u001B[0m \u001B[1;33m\u001B[0m\u001B[0m\n\u001B[0;32m    377\u001B[0m         \u001B[0mredirect_location\u001B[0m \u001B[1;33m=\u001B[0m \u001B[0mredirect\u001B[0m \u001B[1;32mand\u001B[0m \u001B[0mresponse\u001B[0m\u001B[1;33m.\u001B[0m\u001B[0mget_redirect_location\u001B[0m\u001B[1;33m(\u001B[0m\u001B[1;33m)\u001B[0m\u001B[1;33m\u001B[0m\u001B[1;33m\u001B[0m\u001B[0m\n",
      "\u001B[1;32mc:\\users\\stiven.lopez\\pycharmprojects\\sagemaker-local\\venv\\lib\\site-packages\\urllib3\\connectionpool.py\u001B[0m in \u001B[0;36murlopen\u001B[1;34m(self, method, url, body, headers, retries, redirect, assert_same_host, timeout, pool_timeout, release_conn, chunked, body_pos, **response_kw)\u001B[0m\n\u001B[0;32m    781\u001B[0m                 \u001B[1;34m\"Retrying (%r) after connection broken by '%r': %s\"\u001B[0m\u001B[1;33m,\u001B[0m \u001B[0mretries\u001B[0m\u001B[1;33m,\u001B[0m \u001B[0merr\u001B[0m\u001B[1;33m,\u001B[0m \u001B[0murl\u001B[0m\u001B[1;33m\u001B[0m\u001B[1;33m\u001B[0m\u001B[0m\n\u001B[0;32m    782\u001B[0m             )\n\u001B[1;32m--> 783\u001B[1;33m             return self.urlopen(\n\u001B[0m\u001B[0;32m    784\u001B[0m                 \u001B[0mmethod\u001B[0m\u001B[1;33m,\u001B[0m\u001B[1;33m\u001B[0m\u001B[1;33m\u001B[0m\u001B[0m\n\u001B[0;32m    785\u001B[0m                 \u001B[0murl\u001B[0m\u001B[1;33m,\u001B[0m\u001B[1;33m\u001B[0m\u001B[1;33m\u001B[0m\u001B[0m\n",
      "\u001B[1;32mc:\\users\\stiven.lopez\\pycharmprojects\\sagemaker-local\\venv\\lib\\site-packages\\urllib3\\connectionpool.py\u001B[0m in \u001B[0;36murlopen\u001B[1;34m(self, method, url, body, headers, retries, redirect, assert_same_host, timeout, pool_timeout, release_conn, chunked, body_pos, **response_kw)\u001B[0m\n\u001B[0;32m    781\u001B[0m                 \u001B[1;34m\"Retrying (%r) after connection broken by '%r': %s\"\u001B[0m\u001B[1;33m,\u001B[0m \u001B[0mretries\u001B[0m\u001B[1;33m,\u001B[0m \u001B[0merr\u001B[0m\u001B[1;33m,\u001B[0m \u001B[0murl\u001B[0m\u001B[1;33m\u001B[0m\u001B[1;33m\u001B[0m\u001B[0m\n\u001B[0;32m    782\u001B[0m             )\n\u001B[1;32m--> 783\u001B[1;33m             return self.urlopen(\n\u001B[0m\u001B[0;32m    784\u001B[0m                 \u001B[0mmethod\u001B[0m\u001B[1;33m,\u001B[0m\u001B[1;33m\u001B[0m\u001B[1;33m\u001B[0m\u001B[0m\n\u001B[0;32m    785\u001B[0m                 \u001B[0murl\u001B[0m\u001B[1;33m,\u001B[0m\u001B[1;33m\u001B[0m\u001B[1;33m\u001B[0m\u001B[0m\n",
      "\u001B[1;32mc:\\users\\stiven.lopez\\pycharmprojects\\sagemaker-local\\venv\\lib\\site-packages\\urllib3\\connectionpool.py\u001B[0m in \u001B[0;36murlopen\u001B[1;34m(self, method, url, body, headers, retries, redirect, assert_same_host, timeout, pool_timeout, release_conn, chunked, body_pos, **response_kw)\u001B[0m\n\u001B[0;32m    781\u001B[0m                 \u001B[1;34m\"Retrying (%r) after connection broken by '%r': %s\"\u001B[0m\u001B[1;33m,\u001B[0m \u001B[0mretries\u001B[0m\u001B[1;33m,\u001B[0m \u001B[0merr\u001B[0m\u001B[1;33m,\u001B[0m \u001B[0murl\u001B[0m\u001B[1;33m\u001B[0m\u001B[1;33m\u001B[0m\u001B[0m\n\u001B[0;32m    782\u001B[0m             )\n\u001B[1;32m--> 783\u001B[1;33m             return self.urlopen(\n\u001B[0m\u001B[0;32m    784\u001B[0m                 \u001B[0mmethod\u001B[0m\u001B[1;33m,\u001B[0m\u001B[1;33m\u001B[0m\u001B[1;33m\u001B[0m\u001B[0m\n\u001B[0;32m    785\u001B[0m                 \u001B[0murl\u001B[0m\u001B[1;33m,\u001B[0m\u001B[1;33m\u001B[0m\u001B[1;33m\u001B[0m\u001B[0m\n",
      "\u001B[1;32mc:\\users\\stiven.lopez\\pycharmprojects\\sagemaker-local\\venv\\lib\\site-packages\\urllib3\\connectionpool.py\u001B[0m in \u001B[0;36murlopen\u001B[1;34m(self, method, url, body, headers, retries, redirect, assert_same_host, timeout, pool_timeout, release_conn, chunked, body_pos, **response_kw)\u001B[0m\n\u001B[0;32m    697\u001B[0m \u001B[1;33m\u001B[0m\u001B[0m\n\u001B[0;32m    698\u001B[0m             \u001B[1;31m# Make the request on the httplib connection object.\u001B[0m\u001B[1;33m\u001B[0m\u001B[1;33m\u001B[0m\u001B[1;33m\u001B[0m\u001B[0m\n\u001B[1;32m--> 699\u001B[1;33m             httplib_response = self._make_request(\n\u001B[0m\u001B[0;32m    700\u001B[0m                 \u001B[0mconn\u001B[0m\u001B[1;33m,\u001B[0m\u001B[1;33m\u001B[0m\u001B[1;33m\u001B[0m\u001B[0m\n\u001B[0;32m    701\u001B[0m                 \u001B[0mmethod\u001B[0m\u001B[1;33m,\u001B[0m\u001B[1;33m\u001B[0m\u001B[1;33m\u001B[0m\u001B[0m\n",
      "\u001B[1;32mc:\\users\\stiven.lopez\\pycharmprojects\\sagemaker-local\\venv\\lib\\site-packages\\urllib3\\connectionpool.py\u001B[0m in \u001B[0;36m_make_request\u001B[1;34m(self, conn, method, url, timeout, chunked, **httplib_request_kw)\u001B[0m\n\u001B[0;32m    392\u001B[0m                 \u001B[0mconn\u001B[0m\u001B[1;33m.\u001B[0m\u001B[0mrequest_chunked\u001B[0m\u001B[1;33m(\u001B[0m\u001B[0mmethod\u001B[0m\u001B[1;33m,\u001B[0m \u001B[0murl\u001B[0m\u001B[1;33m,\u001B[0m \u001B[1;33m**\u001B[0m\u001B[0mhttplib_request_kw\u001B[0m\u001B[1;33m)\u001B[0m\u001B[1;33m\u001B[0m\u001B[1;33m\u001B[0m\u001B[0m\n\u001B[0;32m    393\u001B[0m             \u001B[1;32melse\u001B[0m\u001B[1;33m:\u001B[0m\u001B[1;33m\u001B[0m\u001B[1;33m\u001B[0m\u001B[0m\n\u001B[1;32m--> 394\u001B[1;33m                 \u001B[0mconn\u001B[0m\u001B[1;33m.\u001B[0m\u001B[0mrequest\u001B[0m\u001B[1;33m(\u001B[0m\u001B[0mmethod\u001B[0m\u001B[1;33m,\u001B[0m \u001B[0murl\u001B[0m\u001B[1;33m,\u001B[0m \u001B[1;33m**\u001B[0m\u001B[0mhttplib_request_kw\u001B[0m\u001B[1;33m)\u001B[0m\u001B[1;33m\u001B[0m\u001B[1;33m\u001B[0m\u001B[0m\n\u001B[0m\u001B[0;32m    395\u001B[0m \u001B[1;33m\u001B[0m\u001B[0m\n\u001B[0;32m    396\u001B[0m         \u001B[1;31m# We are swallowing BrokenPipeError (errno.EPIPE) since the server is\u001B[0m\u001B[1;33m\u001B[0m\u001B[1;33m\u001B[0m\u001B[1;33m\u001B[0m\u001B[0m\n",
      "\u001B[1;32mc:\\users\\stiven.lopez\\pycharmprojects\\sagemaker-local\\venv\\lib\\site-packages\\urllib3\\connection.py\u001B[0m in \u001B[0;36mrequest\u001B[1;34m(self, method, url, body, headers)\u001B[0m\n\u001B[0;32m    232\u001B[0m         \u001B[1;32mif\u001B[0m \u001B[1;34m\"user-agent\"\u001B[0m \u001B[1;32mnot\u001B[0m \u001B[1;32min\u001B[0m \u001B[1;33m(\u001B[0m\u001B[0msix\u001B[0m\u001B[1;33m.\u001B[0m\u001B[0mensure_str\u001B[0m\u001B[1;33m(\u001B[0m\u001B[0mk\u001B[0m\u001B[1;33m.\u001B[0m\u001B[0mlower\u001B[0m\u001B[1;33m(\u001B[0m\u001B[1;33m)\u001B[0m\u001B[1;33m)\u001B[0m \u001B[1;32mfor\u001B[0m \u001B[0mk\u001B[0m \u001B[1;32min\u001B[0m \u001B[0mheaders\u001B[0m\u001B[1;33m)\u001B[0m\u001B[1;33m:\u001B[0m\u001B[1;33m\u001B[0m\u001B[1;33m\u001B[0m\u001B[0m\n\u001B[0;32m    233\u001B[0m             \u001B[0mheaders\u001B[0m\u001B[1;33m[\u001B[0m\u001B[1;34m\"User-Agent\"\u001B[0m\u001B[1;33m]\u001B[0m \u001B[1;33m=\u001B[0m \u001B[0m_get_default_user_agent\u001B[0m\u001B[1;33m(\u001B[0m\u001B[1;33m)\u001B[0m\u001B[1;33m\u001B[0m\u001B[1;33m\u001B[0m\u001B[0m\n\u001B[1;32m--> 234\u001B[1;33m         \u001B[0msuper\u001B[0m\u001B[1;33m(\u001B[0m\u001B[0mHTTPConnection\u001B[0m\u001B[1;33m,\u001B[0m \u001B[0mself\u001B[0m\u001B[1;33m)\u001B[0m\u001B[1;33m.\u001B[0m\u001B[0mrequest\u001B[0m\u001B[1;33m(\u001B[0m\u001B[0mmethod\u001B[0m\u001B[1;33m,\u001B[0m \u001B[0murl\u001B[0m\u001B[1;33m,\u001B[0m \u001B[0mbody\u001B[0m\u001B[1;33m=\u001B[0m\u001B[0mbody\u001B[0m\u001B[1;33m,\u001B[0m \u001B[0mheaders\u001B[0m\u001B[1;33m=\u001B[0m\u001B[0mheaders\u001B[0m\u001B[1;33m)\u001B[0m\u001B[1;33m\u001B[0m\u001B[1;33m\u001B[0m\u001B[0m\n\u001B[0m\u001B[0;32m    235\u001B[0m \u001B[1;33m\u001B[0m\u001B[0m\n\u001B[0;32m    236\u001B[0m     \u001B[1;32mdef\u001B[0m \u001B[0mrequest_chunked\u001B[0m\u001B[1;33m(\u001B[0m\u001B[0mself\u001B[0m\u001B[1;33m,\u001B[0m \u001B[0mmethod\u001B[0m\u001B[1;33m,\u001B[0m \u001B[0murl\u001B[0m\u001B[1;33m,\u001B[0m \u001B[0mbody\u001B[0m\u001B[1;33m=\u001B[0m\u001B[1;32mNone\u001B[0m\u001B[1;33m,\u001B[0m \u001B[0mheaders\u001B[0m\u001B[1;33m=\u001B[0m\u001B[1;32mNone\u001B[0m\u001B[1;33m)\u001B[0m\u001B[1;33m:\u001B[0m\u001B[1;33m\u001B[0m\u001B[1;33m\u001B[0m\u001B[0m\n",
      "\u001B[1;32m~\\AppData\\Local\\Programs\\Python\\Python38\\lib\\http\\client.py\u001B[0m in \u001B[0;36mrequest\u001B[1;34m(self, method, url, body, headers, encode_chunked)\u001B[0m\n\u001B[0;32m   1253\u001B[0m                 encode_chunked=False):\n\u001B[0;32m   1254\u001B[0m         \u001B[1;34m\"\"\"Send a complete request to the server.\"\"\"\u001B[0m\u001B[1;33m\u001B[0m\u001B[1;33m\u001B[0m\u001B[0m\n\u001B[1;32m-> 1255\u001B[1;33m         \u001B[0mself\u001B[0m\u001B[1;33m.\u001B[0m\u001B[0m_send_request\u001B[0m\u001B[1;33m(\u001B[0m\u001B[0mmethod\u001B[0m\u001B[1;33m,\u001B[0m \u001B[0murl\u001B[0m\u001B[1;33m,\u001B[0m \u001B[0mbody\u001B[0m\u001B[1;33m,\u001B[0m \u001B[0mheaders\u001B[0m\u001B[1;33m,\u001B[0m \u001B[0mencode_chunked\u001B[0m\u001B[1;33m)\u001B[0m\u001B[1;33m\u001B[0m\u001B[1;33m\u001B[0m\u001B[0m\n\u001B[0m\u001B[0;32m   1256\u001B[0m \u001B[1;33m\u001B[0m\u001B[0m\n\u001B[0;32m   1257\u001B[0m     \u001B[1;32mdef\u001B[0m \u001B[0m_send_request\u001B[0m\u001B[1;33m(\u001B[0m\u001B[0mself\u001B[0m\u001B[1;33m,\u001B[0m \u001B[0mmethod\u001B[0m\u001B[1;33m,\u001B[0m \u001B[0murl\u001B[0m\u001B[1;33m,\u001B[0m \u001B[0mbody\u001B[0m\u001B[1;33m,\u001B[0m \u001B[0mheaders\u001B[0m\u001B[1;33m,\u001B[0m \u001B[0mencode_chunked\u001B[0m\u001B[1;33m)\u001B[0m\u001B[1;33m:\u001B[0m\u001B[1;33m\u001B[0m\u001B[1;33m\u001B[0m\u001B[0m\n",
      "\u001B[1;32m~\\AppData\\Local\\Programs\\Python\\Python38\\lib\\http\\client.py\u001B[0m in \u001B[0;36m_send_request\u001B[1;34m(self, method, url, body, headers, encode_chunked)\u001B[0m\n\u001B[0;32m   1299\u001B[0m             \u001B[1;31m# default charset of iso-8859-1.\u001B[0m\u001B[1;33m\u001B[0m\u001B[1;33m\u001B[0m\u001B[1;33m\u001B[0m\u001B[0m\n\u001B[0;32m   1300\u001B[0m             \u001B[0mbody\u001B[0m \u001B[1;33m=\u001B[0m \u001B[0m_encode\u001B[0m\u001B[1;33m(\u001B[0m\u001B[0mbody\u001B[0m\u001B[1;33m,\u001B[0m \u001B[1;34m'body'\u001B[0m\u001B[1;33m)\u001B[0m\u001B[1;33m\u001B[0m\u001B[1;33m\u001B[0m\u001B[0m\n\u001B[1;32m-> 1301\u001B[1;33m         \u001B[0mself\u001B[0m\u001B[1;33m.\u001B[0m\u001B[0mendheaders\u001B[0m\u001B[1;33m(\u001B[0m\u001B[0mbody\u001B[0m\u001B[1;33m,\u001B[0m \u001B[0mencode_chunked\u001B[0m\u001B[1;33m=\u001B[0m\u001B[0mencode_chunked\u001B[0m\u001B[1;33m)\u001B[0m\u001B[1;33m\u001B[0m\u001B[1;33m\u001B[0m\u001B[0m\n\u001B[0m\u001B[0;32m   1302\u001B[0m \u001B[1;33m\u001B[0m\u001B[0m\n\u001B[0;32m   1303\u001B[0m     \u001B[1;32mdef\u001B[0m \u001B[0mgetresponse\u001B[0m\u001B[1;33m(\u001B[0m\u001B[0mself\u001B[0m\u001B[1;33m)\u001B[0m\u001B[1;33m:\u001B[0m\u001B[1;33m\u001B[0m\u001B[1;33m\u001B[0m\u001B[0m\n",
      "\u001B[1;32m~\\AppData\\Local\\Programs\\Python\\Python38\\lib\\http\\client.py\u001B[0m in \u001B[0;36mendheaders\u001B[1;34m(self, message_body, encode_chunked)\u001B[0m\n\u001B[0;32m   1248\u001B[0m         \u001B[1;32melse\u001B[0m\u001B[1;33m:\u001B[0m\u001B[1;33m\u001B[0m\u001B[1;33m\u001B[0m\u001B[0m\n\u001B[0;32m   1249\u001B[0m             \u001B[1;32mraise\u001B[0m \u001B[0mCannotSendHeader\u001B[0m\u001B[1;33m(\u001B[0m\u001B[1;33m)\u001B[0m\u001B[1;33m\u001B[0m\u001B[1;33m\u001B[0m\u001B[0m\n\u001B[1;32m-> 1250\u001B[1;33m         \u001B[0mself\u001B[0m\u001B[1;33m.\u001B[0m\u001B[0m_send_output\u001B[0m\u001B[1;33m(\u001B[0m\u001B[0mmessage_body\u001B[0m\u001B[1;33m,\u001B[0m \u001B[0mencode_chunked\u001B[0m\u001B[1;33m=\u001B[0m\u001B[0mencode_chunked\u001B[0m\u001B[1;33m)\u001B[0m\u001B[1;33m\u001B[0m\u001B[1;33m\u001B[0m\u001B[0m\n\u001B[0m\u001B[0;32m   1251\u001B[0m \u001B[1;33m\u001B[0m\u001B[0m\n\u001B[0;32m   1252\u001B[0m     def request(self, method, url, body=None, headers={}, *,\n",
      "\u001B[1;32m~\\AppData\\Local\\Programs\\Python\\Python38\\lib\\http\\client.py\u001B[0m in \u001B[0;36m_send_output\u001B[1;34m(self, message_body, encode_chunked)\u001B[0m\n\u001B[0;32m   1008\u001B[0m         \u001B[0mmsg\u001B[0m \u001B[1;33m=\u001B[0m \u001B[1;34mb\"\\r\\n\"\u001B[0m\u001B[1;33m.\u001B[0m\u001B[0mjoin\u001B[0m\u001B[1;33m(\u001B[0m\u001B[0mself\u001B[0m\u001B[1;33m.\u001B[0m\u001B[0m_buffer\u001B[0m\u001B[1;33m)\u001B[0m\u001B[1;33m\u001B[0m\u001B[1;33m\u001B[0m\u001B[0m\n\u001B[0;32m   1009\u001B[0m         \u001B[1;32mdel\u001B[0m \u001B[0mself\u001B[0m\u001B[1;33m.\u001B[0m\u001B[0m_buffer\u001B[0m\u001B[1;33m[\u001B[0m\u001B[1;33m:\u001B[0m\u001B[1;33m]\u001B[0m\u001B[1;33m\u001B[0m\u001B[1;33m\u001B[0m\u001B[0m\n\u001B[1;32m-> 1010\u001B[1;33m         \u001B[0mself\u001B[0m\u001B[1;33m.\u001B[0m\u001B[0msend\u001B[0m\u001B[1;33m(\u001B[0m\u001B[0mmsg\u001B[0m\u001B[1;33m)\u001B[0m\u001B[1;33m\u001B[0m\u001B[1;33m\u001B[0m\u001B[0m\n\u001B[0m\u001B[0;32m   1011\u001B[0m \u001B[1;33m\u001B[0m\u001B[0m\n\u001B[0;32m   1012\u001B[0m         \u001B[1;32mif\u001B[0m \u001B[0mmessage_body\u001B[0m \u001B[1;32mis\u001B[0m \u001B[1;32mnot\u001B[0m \u001B[1;32mNone\u001B[0m\u001B[1;33m:\u001B[0m\u001B[1;33m\u001B[0m\u001B[1;33m\u001B[0m\u001B[0m\n",
      "\u001B[1;32m~\\AppData\\Local\\Programs\\Python\\Python38\\lib\\http\\client.py\u001B[0m in \u001B[0;36msend\u001B[1;34m(self, data)\u001B[0m\n\u001B[0;32m    948\u001B[0m         \u001B[1;32mif\u001B[0m \u001B[0mself\u001B[0m\u001B[1;33m.\u001B[0m\u001B[0msock\u001B[0m \u001B[1;32mis\u001B[0m \u001B[1;32mNone\u001B[0m\u001B[1;33m:\u001B[0m\u001B[1;33m\u001B[0m\u001B[1;33m\u001B[0m\u001B[0m\n\u001B[0;32m    949\u001B[0m             \u001B[1;32mif\u001B[0m \u001B[0mself\u001B[0m\u001B[1;33m.\u001B[0m\u001B[0mauto_open\u001B[0m\u001B[1;33m:\u001B[0m\u001B[1;33m\u001B[0m\u001B[1;33m\u001B[0m\u001B[0m\n\u001B[1;32m--> 950\u001B[1;33m                 \u001B[0mself\u001B[0m\u001B[1;33m.\u001B[0m\u001B[0mconnect\u001B[0m\u001B[1;33m(\u001B[0m\u001B[1;33m)\u001B[0m\u001B[1;33m\u001B[0m\u001B[1;33m\u001B[0m\u001B[0m\n\u001B[0m\u001B[0;32m    951\u001B[0m             \u001B[1;32melse\u001B[0m\u001B[1;33m:\u001B[0m\u001B[1;33m\u001B[0m\u001B[1;33m\u001B[0m\u001B[0m\n\u001B[0;32m    952\u001B[0m                 \u001B[1;32mraise\u001B[0m \u001B[0mNotConnected\u001B[0m\u001B[1;33m(\u001B[0m\u001B[1;33m)\u001B[0m\u001B[1;33m\u001B[0m\u001B[1;33m\u001B[0m\u001B[0m\n",
      "\u001B[1;32mc:\\users\\stiven.lopez\\pycharmprojects\\sagemaker-local\\venv\\lib\\site-packages\\urllib3\\connection.py\u001B[0m in \u001B[0;36mconnect\u001B[1;34m(self)\u001B[0m\n\u001B[0;32m    198\u001B[0m \u001B[1;33m\u001B[0m\u001B[0m\n\u001B[0;32m    199\u001B[0m     \u001B[1;32mdef\u001B[0m \u001B[0mconnect\u001B[0m\u001B[1;33m(\u001B[0m\u001B[0mself\u001B[0m\u001B[1;33m)\u001B[0m\u001B[1;33m:\u001B[0m\u001B[1;33m\u001B[0m\u001B[1;33m\u001B[0m\u001B[0m\n\u001B[1;32m--> 200\u001B[1;33m         \u001B[0mconn\u001B[0m \u001B[1;33m=\u001B[0m \u001B[0mself\u001B[0m\u001B[1;33m.\u001B[0m\u001B[0m_new_conn\u001B[0m\u001B[1;33m(\u001B[0m\u001B[1;33m)\u001B[0m\u001B[1;33m\u001B[0m\u001B[1;33m\u001B[0m\u001B[0m\n\u001B[0m\u001B[0;32m    201\u001B[0m         \u001B[0mself\u001B[0m\u001B[1;33m.\u001B[0m\u001B[0m_prepare_conn\u001B[0m\u001B[1;33m(\u001B[0m\u001B[0mconn\u001B[0m\u001B[1;33m)\u001B[0m\u001B[1;33m\u001B[0m\u001B[1;33m\u001B[0m\u001B[0m\n\u001B[0;32m    202\u001B[0m \u001B[1;33m\u001B[0m\u001B[0m\n",
      "\u001B[1;32mc:\\users\\stiven.lopez\\pycharmprojects\\sagemaker-local\\venv\\lib\\site-packages\\urllib3\\connection.py\u001B[0m in \u001B[0;36m_new_conn\u001B[1;34m(self)\u001B[0m\n\u001B[0;32m    167\u001B[0m \u001B[1;33m\u001B[0m\u001B[0m\n\u001B[0;32m    168\u001B[0m         \u001B[1;32mtry\u001B[0m\u001B[1;33m:\u001B[0m\u001B[1;33m\u001B[0m\u001B[1;33m\u001B[0m\u001B[0m\n\u001B[1;32m--> 169\u001B[1;33m             conn = connection.create_connection(\n\u001B[0m\u001B[0;32m    170\u001B[0m                 \u001B[1;33m(\u001B[0m\u001B[0mself\u001B[0m\u001B[1;33m.\u001B[0m\u001B[0m_dns_host\u001B[0m\u001B[1;33m,\u001B[0m \u001B[0mself\u001B[0m\u001B[1;33m.\u001B[0m\u001B[0mport\u001B[0m\u001B[1;33m)\u001B[0m\u001B[1;33m,\u001B[0m \u001B[0mself\u001B[0m\u001B[1;33m.\u001B[0m\u001B[0mtimeout\u001B[0m\u001B[1;33m,\u001B[0m \u001B[1;33m**\u001B[0m\u001B[0mextra_kw\u001B[0m\u001B[1;33m\u001B[0m\u001B[1;33m\u001B[0m\u001B[0m\n\u001B[0;32m    171\u001B[0m             )\n",
      "\u001B[1;32mc:\\users\\stiven.lopez\\pycharmprojects\\sagemaker-local\\venv\\lib\\site-packages\\urllib3\\util\\connection.py\u001B[0m in \u001B[0;36mcreate_connection\u001B[1;34m(address, timeout, source_address, socket_options)\u001B[0m\n\u001B[0;32m     84\u001B[0m             \u001B[1;32mif\u001B[0m \u001B[0msource_address\u001B[0m\u001B[1;33m:\u001B[0m\u001B[1;33m\u001B[0m\u001B[1;33m\u001B[0m\u001B[0m\n\u001B[0;32m     85\u001B[0m                 \u001B[0msock\u001B[0m\u001B[1;33m.\u001B[0m\u001B[0mbind\u001B[0m\u001B[1;33m(\u001B[0m\u001B[0msource_address\u001B[0m\u001B[1;33m)\u001B[0m\u001B[1;33m\u001B[0m\u001B[1;33m\u001B[0m\u001B[0m\n\u001B[1;32m---> 86\u001B[1;33m             \u001B[0msock\u001B[0m\u001B[1;33m.\u001B[0m\u001B[0mconnect\u001B[0m\u001B[1;33m(\u001B[0m\u001B[0msa\u001B[0m\u001B[1;33m)\u001B[0m\u001B[1;33m\u001B[0m\u001B[1;33m\u001B[0m\u001B[0m\n\u001B[0m\u001B[0;32m     87\u001B[0m             \u001B[1;32mreturn\u001B[0m \u001B[0msock\u001B[0m\u001B[1;33m\u001B[0m\u001B[1;33m\u001B[0m\u001B[0m\n\u001B[0;32m     88\u001B[0m \u001B[1;33m\u001B[0m\u001B[0m\n",
      "\u001B[1;31mKeyboardInterrupt\u001B[0m: "
     ]
    }
   ],
   "source": [
    "predictor = estimator.deploy(initial_instance_count=1, instance_type='local')"
   ],
   "metadata": {
    "collapsed": false,
    "pycharm": {
     "name": "#%%\n"
    }
   }
  },
  {
   "cell_type": "code",
   "execution_count": null,
   "outputs": [],
   "source": [
    "test_data = pd.read_csv()"
   ],
   "metadata": {
    "collapsed": false,
    "pycharm": {
     "name": "#%%\n"
    }
   }
  }
 ],
 "metadata": {
  "kernelspec": {
   "display_name": "Python 3",
   "language": "python",
   "name": "python3"
  },
  "language_info": {
   "codemirror_mode": {
    "name": "ipython",
    "version": 2
   },
   "file_extension": ".py",
   "mimetype": "text/x-python",
   "name": "python",
   "nbconvert_exporter": "python",
   "pygments_lexer": "ipython2",
   "version": "2.7.6"
  }
 },
 "nbformat": 4,
 "nbformat_minor": 0
}